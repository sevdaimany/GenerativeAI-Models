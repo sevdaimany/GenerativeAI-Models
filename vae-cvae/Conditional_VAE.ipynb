{
 "cells": [
  {
   "cell_type": "code",
   "execution_count": 1,
   "id": "58b6f1fa",
   "metadata": {},
   "outputs": [],
   "source": [
    "import torch\n",
    "from torch import nn\n",
    "from torch.optim import Adam \n",
    "from torch.utils.data import DataLoader\n",
    "import torchvision\n",
    "from torchvision import datasets\n",
    "from torchvision import transforms\n",
    "import numpy as np\n",
    "import matplotlib.pyplot as plt"
   ]
  },
  {
   "cell_type": "code",
   "execution_count": 2,
   "id": "1eb60451",
   "metadata": {},
   "outputs": [
    {
     "name": "stdout",
     "output_type": "stream",
     "text": [
      "Device is: cuda\n"
     ]
    }
   ],
   "source": [
    "device = torch.device(\"cuda\" if torch.cuda.is_available() else \"cpu\")\n",
    "print(\"Device is:\", device)"
   ]
  },
  {
   "cell_type": "markdown",
   "id": "54468438",
   "metadata": {},
   "source": [
    "## Load Dataset"
   ]
  },
  {
   "cell_type": "code",
   "execution_count": 3,
   "id": "3e45a84c",
   "metadata": {},
   "outputs": [],
   "source": [
    "transform = transforms.Compose([\n",
    "    transforms.Resize((32, 32)),\n",
    "    transforms.ToTensor(),\n",
    "    transforms.Normalize(mean=(0.1307,), std=(0.3081,)),\n",
    "])"
   ]
  },
  {
   "cell_type": "code",
   "execution_count": 4,
   "id": "8a3080ad",
   "metadata": {},
   "outputs": [],
   "source": [
    "train_dataset = datasets.MNIST(root=\"./data\", download=True, train=True, transform=transform)\n",
    "test_dataset = datasets.MNIST(root=\"./data\", download=True, train=False, transform=transform)"
   ]
  },
  {
   "cell_type": "code",
   "execution_count": 5,
   "id": "31f8ba56",
   "metadata": {},
   "outputs": [
    {
     "data": {
      "image/png": "[encoded data removed]",
      "text/plain": [
       "<Figure size 800x100 with 10 Axes>"
      ]
     },
     "metadata": {},
     "output_type": "display_data"
    }
   ],
   "source": [
    "# Displaying random samples\n",
    "fig, axis = plt.subplots(1, 10, figsize=(8, 1))\n",
    "\n",
    "for ax in axis:\n",
    "    ind = np.random.randint(len(train_dataset))\n",
    "    ax.imshow(train_dataset.data[ind], cmap=\"gray\")\n",
    "    ax.set_title(train_dataset.targets[ind].item())\n",
    "    ax.axis(False)"
   ]
  },
  {
   "cell_type": "code",
   "execution_count": 6,
   "id": "6ce2454a",
   "metadata": {},
   "outputs": [],
   "source": [
    "train_loader = DataLoader(train_dataset, batch_size=64, shuffle=True, drop_last=True)\n",
    "test_loader = DataLoader(test_dataset, batch_size=64, shuffle=False, drop_last=False)"
   ]
  },
  {
   "cell_type": "markdown",
   "id": "bb2d8ce2",
   "metadata": {},
   "source": [
    "## Model Architecture"
   ]
  },
  {
   "cell_type": "code",
   "execution_count": 39,
   "id": "e3d819f0",
   "metadata": {},
   "outputs": [],
   "source": [
    "class CVAE(nn.Module):\n",
    "    def __init__(self, input_dim, latent_dim, hidden_dim, num_classes=10):\n",
    "        super(CVAE, self).__init__()\n",
    "        \n",
    "        self.num_classes=num_classes\n",
    "        \n",
    "        self.encoder = nn.Sequential(\n",
    "            nn.Conv2d(in_channels=1+num_classes, out_channels=16, kernel_size=3, stride=2, padding=1),\n",
    "            nn.ReLU(),\n",
    "            nn.Conv2d(in_channels=16, out_channels=32, kernel_size=3, stride=2, padding=1),\n",
    "            nn.ReLU(),\n",
    "            nn.Conv2d(in_channels=32, out_channels=64, kernel_size=3, stride=2, padding=1),\n",
    "            nn.ReLU(),\n",
    "            nn.Flatten(),\n",
    "            nn.Linear(64 * (input_dim//8) * (input_dim//8), hidden_dim)\n",
    "        )\n",
    "        \n",
    "        self.decoder = nn.Sequential(\n",
    "            nn.Linear(latent_dim + num_classes, 64 * (input_dim//8) * (input_dim//8)),\n",
    "            nn.ReLU(),\n",
    "            nn.Unflatten(1, (64, input_dim//8, input_dim//8)),\n",
    "            nn.ConvTranspose2d(in_channels=64, out_channels=32, kernel_size=3, stride=2, padding=1, output_padding=1),\n",
    "            nn.ReLU(),\n",
    "            nn.ConvTranspose2d(in_channels=32, out_channels=16, kernel_size=3, stride=2, padding=1, output_padding=1),\n",
    "            nn.ReLU(),\n",
    "            nn.ConvTranspose2d(in_channels=16, out_channels=1, kernel_size=3, stride=2, padding=1, output_padding=1),\n",
    "            nn.Sigmoid()\n",
    "        )\n",
    "        \n",
    "        self.mu_layer = nn.Linear(hidden_dim, latent_dim)\n",
    "        self.logvar_layer = nn.Linear(hidden_dim, latent_dim)\n",
    "        \n",
    "    def reparameterize(self, mu, logvar):\n",
    "        std = torch.exp(0.5 * logvar)\n",
    "        eps = torch.randn_like(std).to(mu.device)\n",
    "        return mu + std*eps\n",
    "\n",
    "    def forward(self, x, labels):\n",
    "        labels_one_hot = nn.functional.one_hot(labels, num_classes=self.num_classes).float().view(-1, self.num_classes)\n",
    "        \n",
    "        # Expand label to match image dimensions and concatenate\n",
    "        labels_expanded = labels_one_hot.unsqueeze(-1).unsqueeze(-1) # shape (batch, num_classes, 1, 1)\n",
    "        labels_expanded = labels_expanded.expand(-1, -1, x.shape[2], x.shape[3]) # (batch, num_classes, H, W)\n",
    "        \n",
    "        x = torch.cat([x, labels_expanded], dim=1)\n",
    "        h = self.encoder(x)\n",
    "        mu = self.mu_layer(h)\n",
    "        logvar = self.logvar_layer(h)\n",
    "        z = self.reparameterize(mu, logvar)\n",
    "        \n",
    "        z = torch.cat([z, labels_one_hot], dim=1) \n",
    "        recon_x = self.decoder(z)\n",
    "        return recon_x, mu, logvar    "
   ]
  },
  {
   "cell_type": "code",
   "execution_count": 33,
   "id": "00984d8e",
   "metadata": {},
   "outputs": [],
   "source": [
    "def count_parameters(model):\n",
    "    return sum(p.numel() for p in model.parameters() if p.requires_grad)"
   ]
  },
  {
   "cell_type": "code",
   "execution_count": 34,
   "id": "5edd568f",
   "metadata": {},
   "outputs": [
    {
     "name": "stdout",
     "output_type": "stream",
     "text": [
      "torch.Size([7, 1, 32, 32])\n",
      "torch.Size([7, 1, 32, 32]) torch.Size([7, 10, 32, 32])\n",
      "The model has 209,663 trainable parameters\n"
     ]
    },
    {
     "data": {
      "text/plain": [
       "(torch.Size([7, 1, 32, 32]), torch.Size([7, 15]), torch.Size([7, 15]))"
      ]
     },
     "execution_count": 34,
     "metadata": {},
     "output_type": "execute_result"
    }
   ],
   "source": [
    "model = CVAE(32, 15, 128)\n",
    "t = torch.randn(7, 1, 32, 32)\n",
    "l = torch.randint(0, 10, (7,))\n",
    "print(t.shape)\n",
    "x, y, z = model(t, l)\n",
    "\n",
    "print(f'The model has {count_parameters(model):,} trainable parameters')\n",
    "x.shape, y.shape, z.shape"
   ]
  },
  {
   "cell_type": "markdown",
   "id": "27ad9f84",
   "metadata": {},
   "source": [
    "## Training"
   ]
  },
  {
   "cell_type": "code",
   "execution_count": 35,
   "id": "f49835df",
   "metadata": {},
   "outputs": [],
   "source": [
    "def loss_function(recon_x, x, mu, logvar):\n",
    "    loss_recon = nn.functional.mse_loss(recon_x, x, reduction=\"sum\")\n",
    "    loss_KL = -0.5 * torch.sum(1 + logvar - mu.pow(2) - logvar.exp())\n",
    "    loss_vae = loss_recon + loss_KL\n",
    "    return loss_vae"
   ]
  },
  {
   "cell_type": "code",
   "execution_count": 44,
   "id": "b25c5cd4",
   "metadata": {},
   "outputs": [],
   "source": [
    "def train_per_epoch():\n",
    "    model.train()\n",
    "    \n",
    "    train_losses = []\n",
    "    for batch, labels in train_loader:\n",
    "        \n",
    "        x , labels = batch.to(device), labels.to(device)\n",
    "        optim.zero_grad()\n",
    "        \n",
    "        recon_x, mu, logvar = model(x, labels)\n",
    "        loss = loss_function(recon_x, x, mu, logvar)\n",
    "        loss.backward()\n",
    "        optim.step()\n",
    "        \n",
    "        train_losses.append(loss.item())\n",
    "\n",
    "    train_loss = np.mean(train_losses)\n",
    "        \n",
    "    return train_loss\n",
    "\n",
    "def validate():\n",
    "    model.eval()\n",
    "    \n",
    "    val_losses = []\n",
    "    with torch.no_grad():\n",
    "        for batch, labels in test_loader:\n",
    "            x, labels = batch.to(device), labels.to(device)\n",
    "            \n",
    "            recon_x, mu, logvar = model(x, labels)\n",
    "            loss = loss_function(recon_x, x, mu, logvar)\n",
    "            val_losses.append(loss.item())\n",
    "    \n",
    "    val_loss = np.mean(val_losses)\n",
    "    return val_loss\n",
    "\n",
    "def train(first_epoch, num_epochs):\n",
    "    train_losses, val_losses = [], []\n",
    "    \n",
    "    for epoch in range(first_epoch, first_epoch + num_epochs):\n",
    "        \n",
    "        train_loss = train_per_epoch()\n",
    "        val_loss = validate()\n",
    "        \n",
    "        train_losses.append(train_loss)\n",
    "        val_losses.append(val_loss)\n",
    "        \n",
    "        print(f'[{epoch:03d}] train loss: {train_loss:04f}  '\n",
    "              f'val loss: {val_loss:04f}')\n",
    "        \n",
    "        \n",
    "        # visualize random sample result\n",
    "        idx = np.random.randint(0, 64)\n",
    "        mean = 0.1307\n",
    "        std = 0.3081\n",
    "\n",
    "        sample_batch, labels = next(iter(test_loader))\n",
    "        recon_batch, _, _ = model(sample_batch.cuda(), labels.cuda())\n",
    "        recon_batch = recon_batch.cpu().detach().numpy()\n",
    "\n",
    "#         gt = (sample_batch.numpy()[idx, 0] * 255).astype(np.uint8)\n",
    "#         rc = (recon_batch[idx, 0] * 255).astype(np.uint8)\n",
    "        \n",
    "        gt = sample_batch.cpu().numpy()[idx, 0] * std + mean\n",
    "        rc = recon_batch[idx, 0] * std + mean\n",
    "        gt = (gt * 255).astype(np.uint8)\n",
    "        rc = (rc * 255).astype(np.uint8)\n",
    "\n",
    "\n",
    "        plt.figure(figsize=(10, 5))\n",
    "        plt.subplot(1, 2, 1)\n",
    "        plt.title('Ground Truth')\n",
    "        plt.imshow(gt, cmap=\"gray\")\n",
    "        plt.subplot(1, 2, 2)\n",
    "        plt.title('Reconstructed')\n",
    "        plt.imshow(rc, cmap=\"gray\")\n",
    "        plt.savefig(f\"results/conditional_res{epoch+1}.png\")\n",
    "        plt.close('all')\n",
    "\n",
    "    return train_losses, val_losses "
   ]
  },
  {
   "cell_type": "code",
   "execution_count": 45,
   "id": "cdcb4336",
   "metadata": {},
   "outputs": [
    {
     "name": "stdout",
     "output_type": "stream",
     "text": [
      "[000] train loss: 35551.862666  val loss: 30537.986241\n",
      "[001] train loss: 29928.372257  val loss: 29901.683233\n",
      "[002] train loss: 29513.775983  val loss: 29652.204350\n",
      "[003] train loss: 29302.886425  val loss: 29485.662122\n",
      "[004] train loss: 29167.751217  val loss: 29386.934303\n",
      "[005] train loss: 29070.111141  val loss: 29319.797198\n",
      "[006] train loss: 29000.012986  val loss: 29251.017740\n",
      "[007] train loss: 28938.233879  val loss: 29194.785405\n",
      "[008] train loss: 28881.242096  val loss: 29154.016608\n",
      "[009] train loss: 28841.406104  val loss: 29125.170021\n",
      "[010] train loss: 28805.455149  val loss: 29083.730046\n",
      "[011] train loss: 28771.972573  val loss: 29063.600175\n",
      "[012] train loss: 28746.915357  val loss: 29049.179457\n",
      "[013] train loss: 28712.638778  val loss: 29016.319616\n",
      "[014] train loss: 28695.941210  val loss: 28990.389543\n",
      "[015] train loss: 28675.301821  val loss: 28969.681666\n",
      "[016] train loss: 28656.457048  val loss: 28964.072402\n",
      "[017] train loss: 28642.408149  val loss: 28937.120179\n",
      "[018] train loss: 28628.063605  val loss: 28935.913714\n",
      "[019] train loss: 28611.644075  val loss: 28934.722246\n"
     ]
    }
   ],
   "source": [
    "model = CVAE(input_dim=32, hidden_dim=128, latent_dim=15).to(device)\n",
    "optim = Adam(model.parameters(), lr=1e-3)\n",
    "first_epoch = 0\n",
    "num_epochs = 20\n",
    "train_losses, val_losses = train(first_epoch, num_epochs)"
   ]
  },
  {
   "cell_type": "markdown",
   "id": "7571d0c3",
   "metadata": {},
   "source": [
    "## Generate new samples"
   ]
  },
  {
   "cell_type": "code",
   "execution_count": 47,
   "id": "cda73272",
   "metadata": {},
   "outputs": [
    {
     "data": {
      "image/png": "[encoded data removed]",
      "text/plain": [
       "<Figure size 1000x100 with 10 Axes>"
      ]
     },
     "metadata": {},
     "output_type": "display_data"
    }
   ],
   "source": [
    "import matplotlib.gridspec as gridspec\n",
    "import os\n",
    "\n",
    "z = torch.randn(10, 15)\n",
    "c = torch.eye(10, 10) # [one hot labels for 0-9]\n",
    "z = torch.cat((z, c), dim=-1).to(device)\n",
    "model.eval()\n",
    "samples = model.decoder(z).data.cpu().numpy()\n",
    "\n",
    "save_file = f'results/conditional_vae_generation.jpg'\n",
    "\n",
    "fig = plt.figure(figsize=(10, 1))\n",
    "gspec = gridspec.GridSpec(1, 10)\n",
    "gspec.update(wspace=0.05, hspace=0.05)\n",
    "for i, sample in enumerate(samples):\n",
    "    ax = plt.subplot(gspec[i])\n",
    "    plt.axis('off')\n",
    "    ax.set_xticklabels([])\n",
    "    ax.set_yticklabels([])\n",
    "    ax.set_aspect('equal')\n",
    "    plt.imshow(sample.reshape(32,32), cmap='Greys_r')\n",
    "    plt.savefig(save_file)"
   ]
  },
  {
   "cell_type": "code",
   "execution_count": null,
   "id": "55b8a7be",
   "metadata": {},
   "outputs": [],
   "source": []
  }
 ],
 "metadata": {
  "kernelspec": {
   "display_name": "myenv",
   "language": "python",
   "name": "myenv"
  },
  "language_info": {
   "codemirror_mode": {
    "name": "ipython",
    "version": 3
   },
   "file_extension": ".py",
   "mimetype": "text/x-python",
   "name": "python",
   "nbconvert_exporter": "python",
   "pygments_lexer": "ipython3",
   "version": "3.8.2"
  }
 },
 "nbformat": 4,
 "nbformat_minor": 5
}
