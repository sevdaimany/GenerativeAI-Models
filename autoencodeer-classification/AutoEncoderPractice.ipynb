{
  "cells": [
    {
      "cell_type": "code",
      "execution_count": null,
      "id": "a920d2fa",
      "metadata": {
        "id": "a920d2fa"
      },
      "outputs": [],
      "source": [
        "import torch\n",
        "from torchvision import datasets\n",
        "from torchvision import transforms\n",
        "from torch.utils.data import DataLoader\n",
        "import matplotlib.pyplot as plt\n",
        "import numpy as np\n",
        "from torch import nn\n",
        "import torch.optim as optim"
      ]
    },
    {
      "cell_type": "code",
      "execution_count": null,
      "id": "944c5cde",
      "metadata": {
        "colab": {
          "base_uri": "https://localhost:8080/"
        },
        "id": "944c5cde",
        "outputId": "66cb51a8-1ccf-471a-cd3d-7828001835d3"
      },
      "outputs": [
        {
          "output_type": "stream",
          "name": "stdout",
          "text": [
            "cuda\n"
          ]
        }
      ],
      "source": [
        "## device\n",
        "device = torch.device(\"cuda\" if torch.cuda.is_available() else \"cpu\")\n",
        "print(device)"
      ]
    },
    {
      "cell_type": "code",
      "execution_count": null,
      "id": "88c0452b",
      "metadata": {
        "id": "88c0452b"
      },
      "outputs": [],
      "source": [
        "transform = transforms.Compose(\n",
        "   [transforms.Resize((32, 32)),\n",
        "    transforms.ToTensor(),\n",
        "    transforms.Normalize(mean=(0.5, ), std=(0.5, ))]\n",
        ")"
      ]
    },
    {
      "cell_type": "code",
      "execution_count": null,
      "id": "b2183d7b",
      "metadata": {
        "scrolled": true,
        "colab": {
          "base_uri": "https://localhost:8080/"
        },
        "id": "b2183d7b",
        "outputId": "cd837ca6-e08a-4d6a-f138-2ddd0254e5d6"
      },
      "outputs": [
        {
          "output_type": "stream",
          "name": "stdout",
          "text": [
            "Downloading http://yann.lecun.com/exdb/mnist/train-images-idx3-ubyte.gz\n",
            "Failed to download (trying next):\n",
            "HTTP Error 403: Forbidden\n",
            "\n",
            "Downloading https://ossci-datasets.s3.amazonaws.com/mnist/train-images-idx3-ubyte.gz\n",
            "Downloading https://ossci-datasets.s3.amazonaws.com/mnist/train-images-idx3-ubyte.gz to ./data/MNIST/raw/train-images-idx3-ubyte.gz\n"
          ]
        },
        {
          "output_type": "stream",
          "name": "stderr",
          "text": [
            "100%|██████████| 9.91M/9.91M [00:00<00:00, 17.9MB/s]\n"
          ]
        },
        {
          "output_type": "stream",
          "name": "stdout",
          "text": [
            "Extracting ./data/MNIST/raw/train-images-idx3-ubyte.gz to ./data/MNIST/raw\n",
            "\n",
            "Downloading http://yann.lecun.com/exdb/mnist/train-labels-idx1-ubyte.gz\n",
            "Failed to download (trying next):\n",
            "HTTP Error 403: Forbidden\n",
            "\n",
            "Downloading https://ossci-datasets.s3.amazonaws.com/mnist/train-labels-idx1-ubyte.gz\n",
            "Downloading https://ossci-datasets.s3.amazonaws.com/mnist/train-labels-idx1-ubyte.gz to ./data/MNIST/raw/train-labels-idx1-ubyte.gz\n"
          ]
        },
        {
          "output_type": "stream",
          "name": "stderr",
          "text": [
            "100%|██████████| 28.9k/28.9k [00:00<00:00, 486kB/s]\n"
          ]
        },
        {
          "output_type": "stream",
          "name": "stdout",
          "text": [
            "Extracting ./data/MNIST/raw/train-labels-idx1-ubyte.gz to ./data/MNIST/raw\n",
            "\n",
            "Downloading http://yann.lecun.com/exdb/mnist/t10k-images-idx3-ubyte.gz\n",
            "Failed to download (trying next):\n",
            "HTTP Error 403: Forbidden\n",
            "\n",
            "Downloading https://ossci-datasets.s3.amazonaws.com/mnist/t10k-images-idx3-ubyte.gz\n",
            "Downloading https://ossci-datasets.s3.amazonaws.com/mnist/t10k-images-idx3-ubyte.gz to ./data/MNIST/raw/t10k-images-idx3-ubyte.gz\n"
          ]
        },
        {
          "output_type": "stream",
          "name": "stderr",
          "text": [
            "100%|██████████| 1.65M/1.65M [00:00<00:00, 4.48MB/s]\n"
          ]
        },
        {
          "output_type": "stream",
          "name": "stdout",
          "text": [
            "Extracting ./data/MNIST/raw/t10k-images-idx3-ubyte.gz to ./data/MNIST/raw\n",
            "\n",
            "Downloading http://yann.lecun.com/exdb/mnist/t10k-labels-idx1-ubyte.gz\n",
            "Failed to download (trying next):\n",
            "HTTP Error 403: Forbidden\n",
            "\n",
            "Downloading https://ossci-datasets.s3.amazonaws.com/mnist/t10k-labels-idx1-ubyte.gz\n",
            "Downloading https://ossci-datasets.s3.amazonaws.com/mnist/t10k-labels-idx1-ubyte.gz to ./data/MNIST/raw/t10k-labels-idx1-ubyte.gz\n"
          ]
        },
        {
          "output_type": "stream",
          "name": "stderr",
          "text": [
            "100%|██████████| 4.54k/4.54k [00:00<00:00, 4.25MB/s]"
          ]
        },
        {
          "output_type": "stream",
          "name": "stdout",
          "text": [
            "Extracting ./data/MNIST/raw/t10k-labels-idx1-ubyte.gz to ./data/MNIST/raw\n",
            "\n"
          ]
        },
        {
          "output_type": "stream",
          "name": "stderr",
          "text": [
            "\n"
          ]
        }
      ],
      "source": [
        "training_dataset = datasets.MNIST(root=\"./data\", download=True, train=True, transform=transform)\n",
        "testing_dataset = datasets.MNIST(root=\"./data\", download=True, train=False, transform=transform)"
      ]
    },
    {
      "cell_type": "code",
      "execution_count": null,
      "id": "6d39a9de",
      "metadata": {
        "colab": {
          "base_uri": "https://localhost:8080/",
          "height": 111
        },
        "id": "6d39a9de",
        "outputId": "da90b85e-22b8-464d-9700-437a7f954f54"
      },
      "outputs": [
        {
          "output_type": "display_data",
          "data": {
            "text/plain": [
              "<Figure size 800x100 with 10 Axes>"
            ],
            "image/png": "[encoded data removed]"
          },
          "metadata": {}
        }
      ],
      "source": [
        "fig, axis = plt.subplots(nrows=1, ncols=10, figsize=(8, 1))\n",
        "\n",
        "for ax in axis:\n",
        "    idx = np.random.randint(len(training_dataset))\n",
        "    ax.imshow(training_dataset.data[idx], cmap=\"gray\")\n",
        "    ax.set_title(int(training_dataset.targets[idx]))\n",
        "    ax.axis(False)"
      ]
    },
    {
      "cell_type": "code",
      "execution_count": null,
      "id": "176b1b97",
      "metadata": {
        "id": "176b1b97"
      },
      "outputs": [],
      "source": [
        "training_dataloader = DataLoader(training_dataset, shuffle=True, batch_size=64, drop_last=True)\n",
        "testing_dataloader = DataLoader(testing_dataset, shuffle=False, batch_size=64, drop_last=False)"
      ]
    },
    {
      "cell_type": "code",
      "execution_count": null,
      "id": "1ec3ad26",
      "metadata": {
        "colab": {
          "base_uri": "https://localhost:8080/"
        },
        "id": "1ec3ad26",
        "outputId": "7d6abe15-2de1-464d-b766-794167e36974"
      },
      "outputs": [
        {
          "output_type": "execute_result",
          "data": {
            "text/plain": [
              "Dataset MNIST\n",
              "    Number of datapoints: 60000\n",
              "    Root location: ./data\n",
              "    Split: Train\n",
              "    StandardTransform\n",
              "Transform: Compose(\n",
              "               Resize(size=(32, 32), interpolation=bilinear, max_size=None, antialias=True)\n",
              "               ToTensor()\n",
              "               Normalize(mean=(0.5,), std=(0.5,))\n",
              "           )"
            ]
          },
          "metadata": {},
          "execution_count": 7
        }
      ],
      "source": [
        "training_dataloader.dataset"
      ]
    },
    {
      "cell_type": "code",
      "execution_count": null,
      "id": "ba6fb623",
      "metadata": {
        "id": "ba6fb623"
      },
      "outputs": [],
      "source": [
        "class AutoEncoder(nn.Module):\n",
        "\n",
        "    def __init__(self):\n",
        "        super(AutoEncoder, self).__init__()\n",
        "        self.encoder = nn.Sequential(\n",
        "                nn.Conv2d(in_channels=1, out_channels=4, kernel_size=3, stride=2, padding=1), # 16x16\n",
        "                nn.ReLU(),\n",
        "                nn.Conv2d(in_channels=4, out_channels=8, kernel_size=3, stride=2, padding=1), # 8x8\n",
        "                nn.ReLU()\n",
        "        )\n",
        "\n",
        "        self.decoder = nn.Sequential(\n",
        "            nn.ConvTranspose2d(in_channels=8, out_channels=4, kernel_size=3, stride=2, padding=1, output_padding=1),\n",
        "            nn.ReLU(),\n",
        "            nn.ConvTranspose2d(in_channels=4, out_channels=1, kernel_size=3 ,stride=2, padding=1, output_padding=1),\n",
        "            nn.Sigmoid()\n",
        "        )\n",
        "    def forward(self, x):\n",
        "        x_en = self.encoder(x)\n",
        "        x_dec = self.decoder(x_en)\n",
        "        return x_en, x_dec\n",
        "\n",
        "\n",
        "class Classification(nn.Module):\n",
        "\n",
        "    def __init__(self):\n",
        "      super(Classification, self).__init__()\n",
        "      self.classifier = nn.Sequential(\n",
        "          nn.Flatten(),\n",
        "          nn.Linear(in_features=8*8*8, out_features=10)\n",
        "      )\n",
        "\n",
        "    def forward(self, x):\n",
        "      return self.classifier(x)"
      ]
    },
    {
      "cell_type": "markdown",
      "id": "ec5921d7",
      "metadata": {
        "id": "ec5921d7"
      },
      "source": [
        "## training"
      ]
    },
    {
      "cell_type": "code",
      "execution_count": null,
      "id": "c7a58a55",
      "metadata": {
        "id": "c7a58a55"
      },
      "outputs": [],
      "source": [
        "model = AutoEncoder().to(device)\n",
        "optimizer = optim.Adam(model.parameters(), lr=0.01)\n",
        "criterion = nn.MSELoss()"
      ]
    },
    {
      "cell_type": "code",
      "execution_count": null,
      "id": "47782e70",
      "metadata": {
        "colab": {
          "base_uri": "https://localhost:8080/"
        },
        "id": "47782e70",
        "outputId": "768480a8-db9a-4044-a316-b0ffcbfaaa34"
      },
      "outputs": [
        {
          "output_type": "execute_result",
          "data": {
            "text/plain": [
              "(torch.Size([1, 8, 8, 8]), torch.Size([1, 1, 32, 32]))"
            ]
          },
          "metadata": {},
          "execution_count": 26
        }
      ],
      "source": [
        "x = torch.randn(1, 1, 32, 32).to(device)\n",
        "e, d = model(x)\n",
        "e.shape, d.shape"
      ]
    },
    {
      "cell_type": "code",
      "execution_count": null,
      "id": "9894c20a",
      "metadata": {
        "colab": {
          "base_uri": "https://localhost:8080/",
          "height": 1000
        },
        "id": "9894c20a",
        "outputId": "4e0f938e-83dc-420f-8f7a-2c2b9c2bb711"
      },
      "outputs": [
        {
          "output_type": "stream",
          "name": "stdout",
          "text": [
            "Epoch 1/9, Training loss: 0.8563058997167468\n"
          ]
        },
        {
          "output_type": "display_data",
          "data": {
            "text/plain": [
              "<Figure size 1000x500 with 2 Axes>"
            ],
            "image/png": "[encoded data removed]"
          },
          "metadata": {}
        },
        {
          "output_type": "stream",
          "name": "stdout",
          "text": [
            "Epoch 1/9, Classification loss: 1.6501422749997268\n",
            "Epoch 1/9, Classification accuracy: 0.8664120864461046\n",
            "Test loss: 0.816918845009652\n",
            "Test accuracy: 0.8960987261146497\n",
            "Epoch 2/9, Training loss: 0.8162987141878908\n",
            "Epoch 2/9, Classification loss: 1.8288081512491248\n",
            "Epoch 2/9, Classification accuracy: 0.8525713713980789\n",
            "Test loss: 0.8132727924425891\n",
            "Test accuracy: 0.8966958598726115\n",
            "Epoch 3/9, Training loss: 0.8141750325642629\n",
            "Epoch 3/9, Classification loss: 1.846209430866333\n",
            "Epoch 3/9, Classification accuracy: 0.8395977854855923\n",
            "Test loss: 0.8119640635077361\n",
            "Test accuracy: 0.8295183121019108\n",
            "Epoch 4/9, Training loss: 0.8132695378844995\n"
          ]
        },
        {
          "output_type": "display_data",
          "data": {
            "text/plain": [
              "<Figure size 1000x500 with 2 Axes>"
            ],
            "image/png": "[encoded data removed]"
          },
          "metadata": {}
        },
        {
          "output_type": "stream",
          "name": "stdout",
          "text": [
            "Epoch 4/9, Classification loss: 1.6280784381309021\n",
            "Epoch 4/9, Classification accuracy: 0.8490695037353255\n",
            "Test loss: 0.8113475612774017\n",
            "Test accuracy: 0.8108081210191083\n",
            "Epoch 5/9, Training loss: 0.8127905133566963\n",
            "Epoch 5/9, Classification loss: 1.5958761506522097\n",
            "Epoch 5/9, Classification accuracy: 0.8440334845250801\n",
            "Test loss: 0.8109371593803357\n",
            "Test accuracy: 0.770203025477707\n",
            "Epoch 6/9, Training loss: 0.8124556206206501\n",
            "Epoch 6/9, Classification loss: 1.456098535443033\n",
            "Epoch 6/9, Classification accuracy: 0.8474519743863393\n",
            "Test loss: 0.8106698553273632\n",
            "Test accuracy: 0.8307125796178344\n",
            "Epoch 7/9, Training loss: 0.8122846536982403\n"
          ]
        },
        {
          "output_type": "display_data",
          "data": {
            "text/plain": [
              "<Figure size 1000x500 with 2 Axes>"
            ],
            "image/png": "[encoded data removed]"
          },
          "metadata": {}
        },
        {
          "output_type": "stream",
          "name": "stdout",
          "text": [
            "Epoch 7/9, Classification loss: 1.6481374539116849\n",
            "Epoch 7/9, Classification accuracy: 0.8425827107790822\n",
            "Test loss: 0.8105787706982558\n",
            "Test accuracy: 0.908937101910828\n",
            "Epoch 8/9, Training loss: 0.812167141455342\n",
            "Epoch 8/9, Classification loss: 1.6418269654555027\n",
            "Epoch 8/9, Classification accuracy: 0.8485692369263608\n",
            "Test loss: 0.8104213586278782\n",
            "Test accuracy: 0.9025676751592356\n",
            "Epoch 9/9, Training loss: 0.811969378841852\n",
            "Epoch 9/9, Classification loss: 1.727577680234848\n",
            "Epoch 9/9, Classification accuracy: 0.8520377534685165\n",
            "Test loss: 0.8101771249892605\n",
            "Test accuracy: 0.912718949044586\n"
          ]
        }
      ],
      "source": [
        "n_epochs = 9\n",
        "n_epochs_cls = 3\n",
        "\n",
        "training_losses = []\n",
        "classification_losses = []\n",
        "\n",
        "for epoch in range(n_epochs):\n",
        "    training_loss_per_epoch = []\n",
        "    model.train()\n",
        "    for x, y in training_dataloader:\n",
        "        x, y = x.to(device), y.to(device)\n",
        "        _, decoder = model(x)\n",
        "        optimizer.zero_grad()\n",
        "        loss = criterion(x, decoder)\n",
        "        loss.backward()\n",
        "        optimizer.step()\n",
        "        training_loss_per_epoch.append(loss.item())\n",
        "\n",
        "    training_losses.append(np.array(training_loss_per_epoch).mean())\n",
        "    print(f\"Epoch {epoch+1}/{n_epochs}, Training loss: {np.array(training_loss_per_epoch).mean()}\")\n",
        "    if epoch % 3 == 0:\n",
        "      fig,ax = plt.subplots(nrows=1, ncols=2, figsize=(10, 5))\n",
        "      ax[0].imshow(x[0].cpu().detach().numpy().squeeze(), cmap=\"gray\")\n",
        "      ax[1].imshow(decoder[0].cpu().detach().numpy().squeeze(), cmap=\"gray\")\n",
        "      plt.show()\n",
        "\n",
        "    # Train Classification\n",
        "    classification_model = Classification().to(device)\n",
        "    optimizer_classification = optim.Adam(classification_model.parameters(), lr=0.01)\n",
        "    criterion_classification = nn.CrossEntropyLoss()\n",
        "    classification_model.train()\n",
        "    loss_classification = []\n",
        "    for epoch_cls in range(n_epochs_cls):\n",
        "      epoch_accuracy = []\n",
        "      for x, y in training_dataloader:\n",
        "        x, y = x.to(device), y.to(device)\n",
        "        encoder, _ = model(x)\n",
        "        pred_y = classification_model(encoder)\n",
        "        optimizer_classification.zero_grad()\n",
        "        loss = criterion_classification(pred_y, y)\n",
        "        loss.backward()\n",
        "        optimizer_classification.step()\n",
        "\n",
        "        if epoch_cls == (n_epochs_cls -1):\n",
        "          loss_classification.append(loss.item())\n",
        "          # Calculate accuracy for training\n",
        "          accuracy = (pred_y.argmax(dim=1) == y).type(torch.float).mean().item()\n",
        "          epoch_accuracy.append(accuracy)\n",
        "\n",
        "    classification_losses.append(np.array(loss_classification).mean())\n",
        "    print(f\"Epoch {epoch+1}/{n_epochs}, Classification loss: {np.array(loss_classification).mean()}\")\n",
        "    print(f\"Epoch {epoch+1}/{n_epochs}, Classification accuracy: {np.array(epoch_accuracy).mean()}\")\n",
        "\n",
        "    # Test AutoEncoder\n",
        "    with torch.inference_mode():\n",
        "        test_losses = []\n",
        "        accuracy_total = []\n",
        "        model.eval()\n",
        "        classification_model.eval()\n",
        "        for x, y in testing_dataloader:\n",
        "            x, y = x.to(device), y.to(device)\n",
        "            encoder, decoder = model(x)\n",
        "            y_pred = classification_model(encoder)\n",
        "            loss = criterion(x, decoder)\n",
        "            test_losses.append(loss.item())\n",
        "            accuracy = (y_pred.argmax(dim=1) == y).type(torch.float).mean()\n",
        "            accuracy_total.append(accuracy.item())\n",
        "        print(f\"Test loss: {np.array(test_losses).mean()}\")\n",
        "        print(f\"Test accuracy: {np.array(accuracy_total).mean()}\")"
      ]
    },
    {
      "cell_type": "code",
      "execution_count": null,
      "id": "2f7e9259",
      "metadata": {
        "id": "2f7e9259"
      },
      "outputs": [],
      "source": []
    },
    {
      "cell_type": "code",
      "execution_count": null,
      "id": "9d2bf25a",
      "metadata": {
        "id": "9d2bf25a"
      },
      "outputs": [],
      "source": []
    },
    {
      "cell_type": "code",
      "execution_count": null,
      "id": "6c3578b5",
      "metadata": {
        "id": "6c3578b5"
      },
      "outputs": [],
      "source": []
    },
    {
      "cell_type": "code",
      "execution_count": null,
      "id": "3d356a8b",
      "metadata": {
        "id": "3d356a8b"
      },
      "outputs": [],
      "source": []
    }
  ],
  "metadata": {
    "kernelspec": {
      "display_name": "myenv",
      "language": "python",
      "name": "myenv"
    },
    "language_info": {
      "codemirror_mode": {
        "name": "ipython",
        "version": 3
      },
      "file_extension": ".py",
      "mimetype": "text/x-python",
      "name": "python",
      "nbconvert_exporter": "python",
      "pygments_lexer": "ipython3",
      "version": "3.8.2"
    },
    "colab": {
      "provenance": [],
      "gpuType": "T4"
    },
    "accelerator": "GPU"
  },
  "nbformat": 4,
  "nbformat_minor": 5
}