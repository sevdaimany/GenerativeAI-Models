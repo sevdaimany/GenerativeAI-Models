{
 "cells": [
  {
   "cell_type": "code",
   "execution_count": 1,
   "id": "8db86eeb",
   "metadata": {},
   "outputs": [],
   "source": [
    "import torch\n",
    "from torch import nn\n",
    "from torch.optim import Adam \n",
    "from torch.utils.data import DataLoader\n",
    "import torchvision\n",
    "from torchvision import datasets\n",
    "from torchvision import transforms\n",
    "import numpy as np\n",
    "import matplotlib.pyplot as plt"
   ]
  },
  {
   "cell_type": "code",
   "execution_count": 2,
   "id": "8c428585",
   "metadata": {},
   "outputs": [
    {
     "name": "stdout",
     "output_type": "stream",
     "text": [
      "Device is: cuda\n"
     ]
    }
   ],
   "source": [
    "device = torch.device(\"cuda\" if torch.cuda.is_available() else \"cpu\")\n",
    "print(\"Device is:\", device)"
   ]
  },
  {
   "cell_type": "markdown",
   "id": "2e51d5b6",
   "metadata": {},
   "source": [
    "## Load Dataset"
   ]
  },
  {
   "cell_type": "code",
   "execution_count": 20,
   "id": "2b130bef",
   "metadata": {},
   "outputs": [],
   "source": [
    "transform = transforms.Compose([\n",
    "    transforms.Resize((32, 32)),\n",
    "    transforms.ToTensor(),\n",
    "    transforms.Normalize(mean=(0.1307,), std=(0.3081,)),\n",
    "])"
   ]
  },
  {
   "cell_type": "code",
   "execution_count": 21,
   "id": "b9a4b0c2",
   "metadata": {},
   "outputs": [],
   "source": [
    "train_dataset = datasets.MNIST(root=\"./data\", download=True, train=True, transform=transform)\n",
    "test_dataset = datasets.MNIST(root=\"./data\", download=True, train=False, transform=transform)"
   ]
  },
  {
   "cell_type": "code",
   "execution_count": 22,
   "id": "42d91961",
   "metadata": {},
   "outputs": [
    {
     "data": {
      "image/png": "[encoded data removed]",
      "text/plain": [
       "<Figure size 800x100 with 10 Axes>"
      ]
     },
     "metadata": {},
     "output_type": "display_data"
    }
   ],
   "source": [
    "# Displaying random samples\n",
    "fig, axis = plt.subplots(1, 10, figsize=(8, 1))\n",
    "\n",
    "for ax in axis:\n",
    "    ind = np.random.randint(len(train_dataset))\n",
    "    ax.imshow(train_dataset.data[ind], cmap=\"gray\")\n",
    "    ax.set_title(train_dataset.targets[ind].item())\n",
    "    ax.axis(False)"
   ]
  },
  {
   "cell_type": "code",
   "execution_count": 23,
   "id": "d7ccde51",
   "metadata": {},
   "outputs": [],
   "source": [
    "train_loader = DataLoader(train_dataset, batch_size=64, shuffle=True, drop_last=True)\n",
    "test_loader = DataLoader(test_dataset, batch_size=64, shuffle=False, drop_last=False)"
   ]
  },
  {
   "cell_type": "markdown",
   "id": "0714fc22",
   "metadata": {},
   "source": [
    "## Model Architecture"
   ]
  },
  {
   "cell_type": "code",
   "execution_count": 7,
   "id": "f4f8bc18",
   "metadata": {},
   "outputs": [],
   "source": [
    "class VAE(nn.Module):\n",
    "    def __init__(self, input_dim, latent_dim, hidden_dim):\n",
    "        super(VAE, self).__init__()\n",
    "        \n",
    "        self.encoder = nn.Sequential(\n",
    "            nn.Conv2d(in_channels=1, out_channels=16, kernel_size=3, stride=2, padding=1),\n",
    "            nn.ReLU(),\n",
    "            nn.Conv2d(in_channels=16, out_channels=32, kernel_size=3, stride=2, padding=1),\n",
    "            nn.ReLU(),\n",
    "            nn.Conv2d(in_channels=32, out_channels=64, kernel_size=3, stride=2, padding=1),\n",
    "            nn.ReLU(),\n",
    "            nn.Flatten(),\n",
    "            nn.Linear(64 * (input_dim//8) * (input_dim//8), hidden_dim)\n",
    "        )\n",
    "        \n",
    "        self.decoder = nn.Sequential(\n",
    "            nn.Linear(latent_dim, 64 * (input_dim//8) * (input_dim//8)),\n",
    "            nn.ReLU(),\n",
    "            nn.Unflatten(1, (64, input_dim//8, input_dim//8)),\n",
    "            nn.ConvTranspose2d(in_channels=64, out_channels=32, kernel_size=3, stride=2, padding=1, output_padding=1),\n",
    "            nn.ReLU(),\n",
    "            nn.ConvTranspose2d(in_channels=32, out_channels=16, kernel_size=3, stride=2, padding=1, output_padding=1),\n",
    "            nn.ReLU(),\n",
    "            nn.ConvTranspose2d(in_channels=16, out_channels=1, kernel_size=3, stride=2, padding=1, output_padding=1),\n",
    "            nn.Sigmoid()\n",
    "        )\n",
    "        \n",
    "        self.mu_layer = nn.Linear(hidden_dim, latent_dim)\n",
    "        self.logvar_layer = nn.Linear(hidden_dim, latent_dim)\n",
    "        \n",
    "    def reparameterize(self, mu, logvar):\n",
    "        std = torch.exp(0.5 * logvar)\n",
    "        eps = torch.randn_like(std).to(mu.device)\n",
    "        return mu + std*eps\n",
    "\n",
    "    def forward(self, x):\n",
    "        h = self.encoder(x)\n",
    "        mu = self.mu_layer(h)\n",
    "        logvar = self.logvar_layer(h)\n",
    "        z = self.reparameterize(mu, logvar)\n",
    "        recon_x = self.decoder(z)\n",
    "        return recon_x, mu, logvar    "
   ]
  },
  {
   "cell_type": "code",
   "execution_count": 8,
   "id": "c93a470e",
   "metadata": {},
   "outputs": [],
   "source": [
    "def count_parameters(model):\n",
    "    return sum(p.numel() for p in model.parameters() if p.requires_grad)"
   ]
  },
  {
   "cell_type": "code",
   "execution_count": 9,
   "id": "7db3c3ea",
   "metadata": {},
   "outputs": [
    {
     "name": "stdout",
     "output_type": "stream",
     "text": [
      "torch.Size([1, 1, 32, 32])\n",
      "The model has 197,983 trainable parameters\n"
     ]
    },
    {
     "data": {
      "text/plain": [
       "(torch.Size([1, 1, 32, 32]), torch.Size([1, 15]), torch.Size([1, 15]))"
      ]
     },
     "execution_count": 9,
     "metadata": {},
     "output_type": "execute_result"
    }
   ],
   "source": [
    "model = VAE(32, 15, 128)\n",
    "t = torch.randn(1, 1, 32, 32)\n",
    "print(t.shape)\n",
    "x, y, z = model(t)\n",
    "\n",
    "print(f'The model has {count_parameters(model):,} trainable parameters')\n",
    "x.shape, y.shape, z.shape"
   ]
  },
  {
   "cell_type": "markdown",
   "id": "5dcff00b",
   "metadata": {},
   "source": [
    "## Training"
   ]
  },
  {
   "cell_type": "code",
   "execution_count": 10,
   "id": "201dd782",
   "metadata": {},
   "outputs": [],
   "source": [
    "def loss_function(recon_x, x, mu, logvar):\n",
    "    loss_recon = nn.functional.mse_loss(recon_x, x, reduction=\"sum\")\n",
    "    loss_KL = -0.5 * torch.sum(1 + logvar - mu.pow(2) - logvar.exp())\n",
    "    loss_vae = loss_recon + loss_KL\n",
    "    return loss_vae"
   ]
  },
  {
   "cell_type": "code",
   "execution_count": 37,
   "id": "69cf2c9e",
   "metadata": {},
   "outputs": [],
   "source": [
    "def train_per_epoch():\n",
    "    model.train()\n",
    "    \n",
    "    train_losses = []\n",
    "    for batch, _ in train_loader:\n",
    "        \n",
    "        x = batch.to(device)\n",
    "        optim.zero_grad()\n",
    "        \n",
    "        recon_x, mu, logvar = model(x)\n",
    "        loss = loss_function(recon_x, x, mu, logvar)\n",
    "        loss.backward()\n",
    "        optim.step()\n",
    "        \n",
    "        train_losses.append(loss.item())\n",
    "\n",
    "    train_loss = np.mean(train_losses)\n",
    "        \n",
    "    return train_loss\n",
    "\n",
    "def validate():\n",
    "    model.eval()\n",
    "    \n",
    "    val_losses = []\n",
    "    with torch.no_grad():\n",
    "        for batch, _ in test_loader:\n",
    "            x = batch.to(device)\n",
    "            \n",
    "            recon_x, mu, logvar = model(x)\n",
    "            loss = loss_function(recon_x, x, mu, logvar)\n",
    "            val_losses.append(loss.item())\n",
    "    \n",
    "    val_loss = np.mean(val_losses)\n",
    "    return val_loss\n",
    "\n",
    "def train(first_epoch, num_epochs):\n",
    "    train_losses, val_losses = [], []\n",
    "    \n",
    "    for epoch in range(first_epoch, first_epoch + num_epochs):\n",
    "        \n",
    "        train_loss = train_per_epoch()\n",
    "        val_loss = validate()\n",
    "        \n",
    "        train_losses.append(train_loss)\n",
    "        val_losses.append(val_loss)\n",
    "        \n",
    "        print(f'[{epoch:03d}] train loss: {train_loss:04f}  '\n",
    "              f'val loss: {val_loss:04f}')\n",
    "        \n",
    "        \n",
    "        # visualize random sample result\n",
    "        idx = np.random.randint(0, 64)\n",
    "        mean = 0.1307\n",
    "        std = 0.3081\n",
    "\n",
    "        sample_batch, _ = next(iter(test_loader))\n",
    "        recon_batch, _, _ = model(sample_batch.cuda())\n",
    "        recon_batch = recon_batch.cpu().detach().numpy()\n",
    "\n",
    "#         gt = (sample_batch.numpy()[idx, 0] * 255).astype(np.uint8)\n",
    "#         rc = (recon_batch[idx, 0] * 255).astype(np.uint8)\n",
    "        \n",
    "        gt = sample_batch.cpu().numpy()[idx, 0] * std + mean\n",
    "        rc = recon_batch[idx, 0] * std + mean\n",
    "        gt = (gt * 255).astype(np.uint8)\n",
    "        rc = (rc * 255).astype(np.uint8)\n",
    "\n",
    "\n",
    "        plt.figure(figsize=(10, 5))\n",
    "        plt.subplot(1, 2, 1)\n",
    "        plt.title('Ground Truth')\n",
    "        plt.imshow(gt, cmap=\"gray\")\n",
    "        plt.subplot(1, 2, 2)\n",
    "        plt.title('Reconstructed')\n",
    "        plt.imshow(rc, cmap=\"gray\")\n",
    "        plt.savefig(f\"results/res{epoch+1}.png\")\n",
    "        plt.close('all')\n",
    "\n",
    "    return train_losses, val_losses "
   ]
  },
  {
   "cell_type": "code",
   "execution_count": 46,
   "id": "93964000",
   "metadata": {},
   "outputs": [
    {
     "name": "stdout",
     "output_type": "stream",
     "text": [
      "[000] train loss: 35616.474424  val loss: 30794.332131\n",
      "[001] train loss: 30167.981780  val loss: 30186.395912\n",
      "[002] train loss: 29787.512826  val loss: 29969.146677\n",
      "[003] train loss: 29611.089298  val loss: 29799.318055\n",
      "[004] train loss: 29494.812813  val loss: 29730.381873\n",
      "[005] train loss: 29410.040251  val loss: 29652.483218\n",
      "[006] train loss: 29351.279453  val loss: 29617.051795\n",
      "[007] train loss: 29296.518064  val loss: 29588.947160\n",
      "[008] train loss: 29253.726035  val loss: 29520.255928\n",
      "[009] train loss: 29215.358862  val loss: 29519.647386\n",
      "[010] train loss: 29186.079897  val loss: 29449.704276\n",
      "[011] train loss: 29155.196188  val loss: 29454.771677\n",
      "[012] train loss: 29127.793494  val loss: 29417.857385\n",
      "[013] train loss: 29106.832023  val loss: 29411.870559\n",
      "[014] train loss: 29082.361209  val loss: 29389.875317\n",
      "[015] train loss: 29062.907434  val loss: 29358.560447\n",
      "[016] train loss: 29043.795062  val loss: 29340.919580\n",
      "[017] train loss: 29029.075459  val loss: 29338.091691\n",
      "[018] train loss: 29017.247336  val loss: 29319.872425\n",
      "[019] train loss: 28998.014787  val loss: 29317.745298\n"
     ]
    }
   ],
   "source": [
    "model = VAE(input_dim=32, hidden_dim=128, latent_dim=15).to(device)\n",
    "optim = Adam(model.parameters(), lr=1e-3)\n",
    "first_epoch = 0\n",
    "num_epochs = 20\n",
    "train_losses, val_losses = train(first_epoch, num_epochs)"
   ]
  },
  {
   "cell_type": "markdown",
   "id": "d0c2602d",
   "metadata": {},
   "source": [
    "## Generate new samples"
   ]
  },
  {
   "cell_type": "code",
   "execution_count": 49,
   "id": "39614820",
   "metadata": {},
   "outputs": [
    {
     "data": {
      "image/png": "[encoded data removed]",
      "text/plain": [
       "<Figure size 1000x100 with 10 Axes>"
      ]
     },
     "metadata": {},
     "output_type": "display_data"
    }
   ],
   "source": [
    "import matplotlib.gridspec as gridspec\n",
    "import os\n",
    "\n",
    "z = torch.randn(10, 15).to(device)\n",
    "model.eval()\n",
    "samples = model.decoder(z).data.cpu().numpy()\n",
    "\n",
    "save_file = f'results/vae_generation.jpg'\n",
    "\n",
    "fig = plt.figure(figsize=(10, 1))\n",
    "gspec = gridspec.GridSpec(1, 10)\n",
    "gspec.update(wspace=0.05, hspace=0.05)\n",
    "for i, sample in enumerate(samples):\n",
    "    ax = plt.subplot(gspec[i])\n",
    "    plt.axis('off')\n",
    "    ax.set_xticklabels([])\n",
    "    ax.set_yticklabels([])\n",
    "    ax.set_aspect('equal')\n",
    "    plt.imshow(sample.reshape(32,32), cmap='Greys_r')\n",
    "    plt.savefig(save_file)"
   ]
  },
  {
   "cell_type": "code",
   "execution_count": null,
   "id": "d50cb455",
   "metadata": {},
   "outputs": [],
   "source": []
  },
  {
   "cell_type": "code",
   "execution_count": null,
   "id": "8be0c7f7",
   "metadata": {},
   "outputs": [],
   "source": []
  }
 ],
 "metadata": {
  "kernelspec": {
   "display_name": "myenv",
   "language": "python",
   "name": "myenv"
  },
  "language_info": {
   "codemirror_mode": {
    "name": "ipython",
    "version": 3
   },
   "file_extension": ".py",
   "mimetype": "text/x-python",
   "name": "python",
   "nbconvert_exporter": "python",
   "pygments_lexer": "ipython3",
   "version": "3.8.2"
  }
 },
 "nbformat": 4,
 "nbformat_minor": 5
}
